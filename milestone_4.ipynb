{
 "cells": [
  {
   "attachments": {},
   "cell_type": "markdown",
   "metadata": {},
   "source": [
    "## AiCore Multinational Retail Data Centralisation Project\n",
    "\n",
    "Milestone 4: Query the data using QL\n",
    "\n",
    "Author: Kristina Gorkovskaya\n",
    "\n",
    "Date: 2023-05-11"
   ]
  },
  {
   "cell_type": "code",
   "execution_count": 40,
   "metadata": {},
   "outputs": [
    {
     "name": "stdout",
     "output_type": "stream",
     "text": [
      "Loading database credentials from file: db_creds_sales_data.yaml\n",
      "Connecting to database: sales_data\n"
     ]
    }
   ],
   "source": [
    "# Import libraries and connect to database\n",
    "\n",
    "import pandas as pd\n",
    "from database_utils import DatabaseConnector\n",
    "from sqlalchemy import text\n",
    "\n",
    "db_connector = DatabaseConnector(\"db_creds_sales_data.yaml\")\n",
    "db_connector.init_db_engine(autocommit=True)\n",
    "engine = db_connector.engine\n",
    "\n",
    "\n",
    "def execute(sql):\n",
    "    '''Helper function for executing SQL and printing results.\n",
    "\n",
    "    Arguments:\n",
    "        sql (string): SQL query\n",
    "    \n",
    "    Returns:\n",
    "        None'''\n",
    "        \n",
    "    with engine.connect() as con:\n",
    "\t    df = pd.read_sql_query(sql=text(sql), con=con)\n",
    "    print(df)\n"
   ]
  },
  {
   "attachments": {},
   "cell_type": "markdown",
   "metadata": {},
   "source": [
    "### 1. How many stores does the business have and in which countries?"
   ]
  },
  {
   "cell_type": "code",
   "execution_count": 41,
   "metadata": {},
   "outputs": [
    {
     "name": "stdout",
     "output_type": "stream",
     "text": [
      "  country_code  total_no_stores\n",
      "0           DE              141\n",
      "1           GB              266\n",
      "2           US               34\n"
     ]
    }
   ],
   "source": [
    "sql = '''\n",
    "SELECT country_code, count(*) AS total_no_stores\n",
    "FROM dim_store_details\n",
    "GROUP BY country_code\n",
    "ORDER BY country_code;\n",
    "'''\n",
    "\n",
    "execute(sql)"
   ]
  },
  {
   "attachments": {},
   "cell_type": "markdown",
   "metadata": {},
   "source": [
    "### 2. Which locations currently have the most stores?"
   ]
  },
  {
   "cell_type": "code",
   "execution_count": 42,
   "metadata": {},
   "outputs": [
    {
     "name": "stdout",
     "output_type": "stream",
     "text": [
      "       locality  total_no_stores\n",
      "0    Chapletown               14\n",
      "1        Belper               13\n",
      "2        Bushey               12\n",
      "3        Exeter               11\n",
      "4  High Wycombe               10\n",
      "5    Rutherglen               10\n",
      "6      Arbroath               10\n",
      "7      Surbiton                9\n",
      "8       Lancing                9\n",
      "9      Aberdeen                9\n"
     ]
    }
   ],
   "source": [
    "sql = '''\n",
    "SELECT locality, count(*) AS total_no_stores\n",
    "FROM dim_store_details\n",
    "GROUP BY locality\n",
    "ORDER BY total_no_stores DESC\n",
    "LIMIT 10;\n",
    "'''\n",
    "\n",
    "execute(sql)"
   ]
  },
  {
   "attachments": {},
   "cell_type": "markdown",
   "metadata": {},
   "source": [
    "### 3. Which months produce the highest average cost of sales?"
   ]
  },
  {
   "cell_type": "code",
   "execution_count": 43,
   "metadata": {},
   "outputs": [
    {
     "name": "stdout",
     "output_type": "stream",
     "text": [
      "    total_sales month\n",
      "0     673295.68     8\n",
      "1     668041.45     1\n",
      "2     657335.84    10\n",
      "3     650321.43     5\n",
      "4     645741.70     7\n",
      "5     645463.00     3\n",
      "6     635578.99     6\n",
      "7     635329.09    12\n",
      "8     633993.62     9\n",
      "9     630757.08    11\n",
      "10    630022.77     4\n",
      "11    616452.99     2\n"
     ]
    }
   ],
   "source": [
    "sql = '''\n",
    "SELECT\n",
    "\tROUND(CAST(SUM(spend) AS numeric), 2) AS total_sales,\n",
    "\tmonth\n",
    "FROM (\n",
    "\tSELECT \n",
    "\t\tord.product_quantity * prod.product_price AS spend,\n",
    "\t\tdt.month\n",
    "\tFROM orders_table ord\n",
    "\tINNER JOIN dim_date_times dt\n",
    "\t\tON ord.date_uuid = dt.date_uuid\n",
    "\tINNER JOIN dim_products prod\n",
    "\t\tON ord.product_code = prod.product_code\n",
    ") x\n",
    "GROUP BY month\n",
    "ORDER BY total_sales DESC;\n",
    "'''\n",
    "\n",
    "execute(sql)"
   ]
  },
  {
   "attachments": {},
   "cell_type": "markdown",
   "metadata": {},
   "source": [
    "### 4. How many sales are coming from online?"
   ]
  },
  {
   "cell_type": "code",
   "execution_count": 44,
   "metadata": {},
   "outputs": [
    {
     "name": "stdout",
     "output_type": "stream",
     "text": [
      "   numbers_of_sales  product_quantity_count location\n",
      "0             26957                  107739      Web\n",
      "1             93166                  374047  Offline\n"
     ]
    }
   ],
   "source": [
    "sql = '''\n",
    "SELECT\n",
    "\tCOUNT(*) AS numbers_of_sales,\n",
    "\tSUM(product_quantity) AS product_quantity_count,\n",
    "\tlocation\n",
    "FROM (\n",
    "\tSELECT \n",
    "\t\tord.product_quantity,\n",
    "\t\tCASE\n",
    "\t\t\tWHEN st.store_type = 'Web Portal' THEN 'Web'\n",
    "\t\t\tELSE 'Offline'\n",
    "\t\tEND AS location\n",
    "\tFROM orders_table ord\n",
    "\tINNER JOIN dim_store_details st\n",
    "\t\tON ord.store_code = st.store_code\n",
    ") x\n",
    "GROUP BY location\n",
    "ORDER BY location DESC;\n",
    "''' \n",
    "\n",
    "execute(sql)"
   ]
  },
  {
   "attachments": {},
   "cell_type": "markdown",
   "metadata": {},
   "source": [
    "### 5. What percentage of sales come through each type of store?"
   ]
  },
  {
   "cell_type": "code",
   "execution_count": 45,
   "metadata": {},
   "outputs": [
    {
     "name": "stdout",
     "output_type": "stream",
     "text": [
      "    store_type  total_sales  percentage_total(%)\n",
      "0        Local   3440896.52                44.56\n",
      "1   Web Portal   1726547.05                22.36\n",
      "2  Super Store   1224293.65                15.85\n",
      "3   Mall Kiosk    698791.61                 9.05\n",
      "4       Outlet    631804.81                 8.18\n"
     ]
    }
   ],
   "source": [
    "sql = ''' \n",
    "SELECT\n",
    "\tstore_type,\n",
    "\tROUND(CAST(SUM(sale) AS NUMERIC), 2) AS total_sales,\n",
    "\tROUND(CAST(100 * SUM(sale) / total AS NUMERIC), 2) AS \"percentage_total(%)\"\n",
    "FROM (\n",
    "\tSELECT \n",
    "\t\tst.store_type,\n",
    "\t\tord.product_quantity * prod.product_price AS sale\n",
    "\tFROM orders_table ord\n",
    "\tINNER JOIN dim_store_details st\n",
    "\t\tON ord.store_code = st.store_code\n",
    "\tINNER JOIN dim_products prod\n",
    "\t\tON ord.product_code = prod.product_code\n",
    ") x\n",
    "CROSS JOIN (\n",
    "\tSELECT SUM(ord.product_quantity * prod.product_price) AS total\n",
    "\tFROM orders_table ord\n",
    "\tINNER JOIN dim_products prod\n",
    "\tON ord.product_code = prod.product_code\n",
    ") y\n",
    "GROUP BY x.store_type, y.total\n",
    "ORDER BY total_sales DESC;\n",
    "''' \n",
    "\n",
    "execute(sql)"
   ]
  },
  {
   "attachments": {},
   "cell_type": "markdown",
   "metadata": {},
   "source": [
    "### 6. Which months produced the highest sales?"
   ]
  },
  {
   "cell_type": "code",
   "execution_count": 46,
   "metadata": {},
   "outputs": [
    {
     "name": "stdout",
     "output_type": "stream",
     "text": [
      "   total_sales  year month\n",
      "0     27936.77  1994     3\n",
      "1     27356.14  2019     1\n",
      "2     27091.67  2009     8\n",
      "3     26679.98  1997    11\n",
      "4     26310.97  2018    12\n",
      "5     26277.72  2019     8\n",
      "6     26236.67  2017     9\n",
      "7     25798.12  2010     5\n",
      "8     25648.29  1996     8\n",
      "9     25614.54  2000     1\n"
     ]
    }
   ],
   "source": [
    "sql = ''' \n",
    "SELECT\n",
    "\tROUND(CAST(SUM(sale) AS NUMERIC), 2) AS total_sales,\n",
    "\tyear,\n",
    "\tmonth\n",
    "FROM (\n",
    "\tSELECT \n",
    "\t\tdt.year,\n",
    "\t\tdt.month,\n",
    "\t\tord.product_quantity * prod.product_price AS sale\n",
    "\tFROM orders_table ord\n",
    "\tINNER JOIN dim_products prod\n",
    "\t\tON ord.product_code = prod.product_code\n",
    "\tINNER JOIN dim_date_times dt\n",
    "\t\tON ord.date_uuid = dt.date_uuid\n",
    ") x\n",
    "GROUP BY year, month\n",
    "ORDER BY total_sales DESC\n",
    "LIMIT 10;\n",
    "''' \n",
    "\n",
    "execute(sql)"
   ]
  },
  {
   "attachments": {},
   "cell_type": "markdown",
   "metadata": {},
   "source": [
    "### 7. What is our staff headcount?"
   ]
  },
  {
   "cell_type": "code",
   "execution_count": 47,
   "metadata": {},
   "outputs": [
    {
     "name": "stdout",
     "output_type": "stream",
     "text": [
      "   total_staff_numbers country_code\n",
      "0                13132           GB\n",
      "1                 6054           DE\n",
      "2                 1304           US\n"
     ]
    }
   ],
   "source": [
    "sql = ''' \n",
    "SELECT \n",
    "\tSUM(staff_numbers) AS total_staff_numbers,\n",
    "\tcountry_code\n",
    "FROM dim_store_details\n",
    "GROUP BY country_code\n",
    "ORDER BY total_staff_numbers DESC;\n",
    "'''\n",
    "\n",
    "execute(sql)"
   ]
  },
  {
   "attachments": {},
   "cell_type": "markdown",
   "metadata": {},
   "source": [
    "### 8. Which German store type is selling the most?"
   ]
  },
  {
   "cell_type": "code",
   "execution_count": null,
   "metadata": {},
   "outputs": [],
   "source": [
    "sql = ''' \n",
    "SELECT \n",
    "\tROUND(CAST(SUM(sale) AS NUMERIC), 2) AS total_sales,\n",
    "\tstore_type,\n",
    "\tcountry_code\n",
    "FROM (\n",
    "SELECT\n",
    "\tst.store_type,\n",
    "\tst.country_code,\n",
    "\tord.product_quantity * prod.product_price AS sale\n",
    "FROM orders_table ord\n",
    "INNER JOIN (\n",
    "\tSELECT store_code, store_type, country_code\n",
    "\tFROM dim_store_details \n",
    "\tWHERE country_code = 'DE'\n",
    "\t) st\n",
    "\tON ord.store_code = st.store_code\n",
    "INNER JOIN dim_products prod\n",
    "\tON ord.product_code = prod.product_code\n",
    ") x\n",
    "GROUP BY \n",
    "\tstore_type,\n",
    "\tcountry_code\n",
    "ORDER BY \n",
    "\ttotal_sales;\n",
    "''' \n",
    "\n",
    "execute(sql)"
   ]
  }
 ],
 "metadata": {
  "kernelspec": {
   "display_name": "Python 3",
   "language": "python",
   "name": "python3"
  },
  "language_info": {
   "codemirror_mode": {
    "name": "ipython",
    "version": 3
   },
   "file_extension": ".py",
   "mimetype": "text/x-python",
   "name": "python",
   "nbconvert_exporter": "python",
   "pygments_lexer": "ipython3",
   "version": "3.10.11"
  },
  "orig_nbformat": 4
 },
 "nbformat": 4,
 "nbformat_minor": 2
}
