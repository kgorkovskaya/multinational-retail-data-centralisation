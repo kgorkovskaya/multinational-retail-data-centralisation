{
 "cells": [
  {
   "attachments": {},
   "cell_type": "markdown",
   "metadata": {},
   "source": [
    "### AiCore Multinational Retail Data Centralisation Project\n",
    "\n",
    "Milestone 4: Query the data using QL\n",
    "\n",
    "Author: Kristina Gorkovskaya\n",
    "\n",
    "Date: 2023-05-11"
   ]
  },
  {
   "cell_type": "code",
   "execution_count": 15,
   "metadata": {},
   "outputs": [
    {
     "name": "stdout",
     "output_type": "stream",
     "text": [
      "Loading database credentials from file: db_creds_sales_data.yaml\n",
      "Connecting to database: sales_data\n"
     ]
    }
   ],
   "source": [
    "# Import libraries and connect to database\n",
    "\n",
    "import pandas as pd\n",
    "from database_utils import DatabaseConnector\n",
    "from sqlalchemy import text\n",
    "\n",
    "db_connector = DatabaseConnector(\"db_creds_sales_data.yaml\")\n",
    "db_connector.init_db_engine(autocommit=True)\n",
    "engine = db_connector.engine\n",
    "\n",
    "\n",
    "def execute(sql):\n",
    "    '''Helper function for executing SQL and printing results.\n",
    "\n",
    "    Arguments:\n",
    "        sql (string): SQL query\n",
    "    \n",
    "    Returns:\n",
    "        None'''\n",
    "    with engine.connect() as con:\n",
    "\t    df = pd.read_sql_query(sql=text(sql), con=con)\n",
    "    print(df)\n"
   ]
  },
  {
   "attachments": {},
   "cell_type": "markdown",
   "metadata": {},
   "source": [
    "1. How many stores does the business have and in which countries?"
   ]
  },
  {
   "cell_type": "code",
   "execution_count": 16,
   "metadata": {},
   "outputs": [
    {
     "name": "stdout",
     "output_type": "stream",
     "text": [
      "  country_code  total_no_stores\n",
      "0           DE              141\n",
      "1           GB              266\n",
      "2           US               34\n"
     ]
    }
   ],
   "source": [
    "sql = '''\n",
    "SELECT country_code, count(*) AS total_no_stores\n",
    "FROM dim_store_details\n",
    "GROUP BY country_code\n",
    "ORDER BY country_code;\n",
    "'''\n",
    "\n",
    "execute(sql)"
   ]
  },
  {
   "attachments": {},
   "cell_type": "markdown",
   "metadata": {},
   "source": [
    "2. Which locations currently have the most stores?"
   ]
  },
  {
   "cell_type": "code",
   "execution_count": 17,
   "metadata": {},
   "outputs": [
    {
     "name": "stdout",
     "output_type": "stream",
     "text": [
      "       locality  total_no_stores\n",
      "0    Chapletown               14\n",
      "1        Belper               13\n",
      "2        Bushey               12\n",
      "3        Exeter               11\n",
      "4  High Wycombe               10\n",
      "5    Rutherglen               10\n",
      "6      Arbroath               10\n",
      "7      Surbiton                9\n",
      "8       Lancing                9\n",
      "9      Aberdeen                9\n"
     ]
    }
   ],
   "source": [
    "sql = '''\n",
    "SELECT locality, count(*) AS total_no_stores\n",
    "FROM dim_store_details\n",
    "GROUP BY locality\n",
    "ORDER BY total_no_stores DESC\n",
    "LIMIT 10;\n",
    "'''\n",
    "\n",
    "execute(sql)"
   ]
  },
  {
   "attachments": {},
   "cell_type": "markdown",
   "metadata": {},
   "source": [
    "3. Which months produce the highest average cost of sales?"
   ]
  },
  {
   "cell_type": "code",
   "execution_count": 18,
   "metadata": {},
   "outputs": [
    {
     "name": "stdout",
     "output_type": "stream",
     "text": [
      "    total_sales month\n",
      "0     673295.68     8\n",
      "1     668041.45     1\n",
      "2     657335.84    10\n",
      "3     650321.43     5\n",
      "4     645741.70     7\n",
      "5     645463.00     3\n",
      "6     635578.99     6\n",
      "7     635329.09    12\n",
      "8     633993.62     9\n",
      "9     630757.08    11\n",
      "10    630022.77     4\n",
      "11    616452.99     2\n"
     ]
    }
   ],
   "source": [
    "sql = '''\n",
    "SELECT\n",
    "\tROUND(CAST(SUM(spend) AS numeric), 2) AS total_sales,\n",
    "\tmonth\n",
    "FROM (\n",
    "\tSELECT \n",
    "\t\tord.product_quantity * prod.product_price AS spend,\n",
    "\t\tdt.month\n",
    "\tFROM orders_table ord\n",
    "\tINNER JOIN dim_date_times dt\n",
    "\t\tON ord.date_uuid = dt.date_uuid\n",
    "\tINNER JOIN dim_products prod\n",
    "\t\tON ord.product_code = prod.product_code\n",
    ") spend_per_order\n",
    "GROUP BY month\n",
    "ORDER BY total_sales DESC;\n",
    "'''\n",
    "\n",
    "execute(sql)"
   ]
  },
  {
   "attachments": {},
   "cell_type": "markdown",
   "metadata": {},
   "source": [
    "4. How many sales are coming from online?"
   ]
  },
  {
   "cell_type": "code",
   "execution_count": 19,
   "metadata": {},
   "outputs": [
    {
     "name": "stdout",
     "output_type": "stream",
     "text": [
      "   numbers_of_sales  product_quantity_count location\n",
      "0             26957                  107739      Web\n",
      "1             93166                  374047  Offline\n"
     ]
    }
   ],
   "source": [
    "sql = '''\n",
    "SELECT\n",
    "\tCOUNT(*) AS numbers_of_sales,\n",
    "\tSUM(product_quantity) AS product_quantity_count,\n",
    "\tlocation\n",
    "FROM (\n",
    "\tSELECT \n",
    "\t\tord.product_quantity,\n",
    "\t\tCASE\n",
    "\t\t\tWHEN st.store_type = 'Web Portal' THEN 'Web'\n",
    "\t\t\tELSE 'Offline'\n",
    "\t\tEND AS location\n",
    "\tFROM orders_table ord\n",
    "\tINNER JOIN dim_store_details st\n",
    "\t\tON ord.store_code = st.store_code\n",
    ") orders_per_location\n",
    "GROUP BY location\n",
    "ORDER BY location DESC;\n",
    "''' \n",
    "\n",
    "execute(sql)"
   ]
  }
 ],
 "metadata": {
  "kernelspec": {
   "display_name": "Python 3",
   "language": "python",
   "name": "python3"
  },
  "language_info": {
   "codemirror_mode": {
    "name": "ipython",
    "version": 3
   },
   "file_extension": ".py",
   "mimetype": "text/x-python",
   "name": "python",
   "nbconvert_exporter": "python",
   "pygments_lexer": "ipython3",
   "version": "3.10.11"
  },
  "orig_nbformat": 4
 },
 "nbformat": 4,
 "nbformat_minor": 2
}
